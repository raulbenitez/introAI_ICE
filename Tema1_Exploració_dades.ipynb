{
  "nbformat": 4,
  "nbformat_minor": 0,
  "metadata": {
    "colab": {
      "provenance": [],
      "toc_visible": true,
      "authorship_tag": "ABX9TyPqs7uvezzB4REn4jj7vCcK",
      "include_colab_link": true
    },
    "kernelspec": {
      "name": "python3",
      "display_name": "Python 3"
    },
    "language_info": {
      "name": "python"
    }
  },
  "cells": [
    {
      "cell_type": "markdown",
      "metadata": {
        "id": "view-in-github",
        "colab_type": "text"
      },
      "source": [
        "<a href=\"https://colab.research.google.com/github/raulbenitez/introAI_ICE/blob/main/Tema1_Exploraci%C3%B3_dades.ipynb\" target=\"_parent\"><img src=\"https://colab.research.google.com/assets/colab-badge.svg\" alt=\"Open In Colab\"/></a>"
      ]
    },
    {
      "cell_type": "markdown",
      "source": [
        "# Tema1: Anàlisi Exploratori de dades\n",
        "\n",
        "1.1 Introducció a la programació en Python\n",
        "\n",
        "1.2 Manipulació de dades amb Pandas\n",
        "\n",
        "1.3 Representació gràfica de dades "
      ],
      "metadata": {
        "id": "FtDeg69khbbv"
      }
    },
    {
      "cell_type": "markdown",
      "source": [
        "## 1.1 Introducció a la programació en Python"
      ],
      "metadata": {
        "id": "IB4tmHP3iZnj"
      }
    },
    {
      "cell_type": "markdown",
      "metadata": {
        "id": "9LygxZuMiKAB"
      },
      "source": [
        "### Why Python?\n",
        "Python is a high-level programming language that allows you to solve general-purpose problems. It is especially useful in data processing, pattern recognition and artificial intelligence applications. Think of a kind of very powerful programmable scientific calculator.\n",
        "\n",
        "The objective of this first part of the course is to hace a crash course on Python programming. In the following laboratory sessions you will learn how to use Python in order to do data analysis and machine learning. "
      ]
    },
    {
      "cell_type": "markdown",
      "metadata": {
        "id": "pEQYpwPvfvWO"
      },
      "source": [
        "### The google Colaboratory platform: Python notebooks\n",
        "\n",
        "There are a large number of programming environments that allow you to develop programs with Python. The most common ones require the installation in your computer of a complete Python programming platform such as Anaconda (https://www.anaconda.com/, for MacOS and Windows) or WinPython (https://winpython.github.io/, Windows only). These distributions work perfectly fine but require lots of ressources from your personal computers in terms of disk, memory and CPU. \n",
        "\n",
        "### Google colab\n",
        "Instead, in the course we will use a google cloud platform called google collaboratory that already has most of the necessary libraries and allows us to work without the need to install anything on our computers:\n",
        "\n",
        "https://colab.research.google.com/\n",
        "\n",
        "The only thing it asks us to start working is a gmail google account. In addition, it allows us to run the programs on google servers, which can be very useful when we manipulate large amounts of data.\n",
        "\n",
        "### Python notebooks\n",
        "The way to program on this platform are the **Python notebooks**: A notebook is a document that combines text and Python code. A notebook is composed of two different kinds of cells: code cells and text cells. Text cells are used to explain what we do at any given time, and the Python code excutes different code segments that perform different functions.  Here is a brief tutorial of how to get started working with juputer notebooks in Google colab: \n",
        "\n",
        "https://colab.research.google.com/notebooks/intro.ipynb\n",
        "\n",
        "The text in the notebooks is written in a simple markdown language called **Markdown**. To have a brief introduction to markdown language just take a look to https://colab.research.google.com/notebooks/markdown_guide.ipynb"
      ]
    },
    {
      "cell_type": "markdown",
      "metadata": {
        "id": "jsxiJZwxdlzZ"
      },
      "source": [
        "### Executing commands\n",
        "\n",
        "In order to execute a command, you should write it in a **code cell** and execute it by either clicking in the play icon on the left or by the keyboard shortcut Shift+Return. "
      ]
    },
    {
      "cell_type": "code",
      "metadata": {
        "id": "eY80RVdvdlza",
        "colab": {
          "base_uri": "https://localhost:8080/",
          "height": 34
        },
        "outputId": "6b2bf90f-8136-4c57-c121-95af5f51da04"
      },
      "source": [
        "3 + 4 + 9"
      ],
      "execution_count": null,
      "outputs": [
        {
          "output_type": "execute_result",
          "data": {
            "text/plain": [
              "16"
            ]
          },
          "metadata": {
            "tags": []
          },
          "execution_count": 26
        }
      ]
    },
    {
      "cell_type": "code",
      "metadata": {
        "id": "puH-CkUPdlzg",
        "colab": {
          "base_uri": "https://localhost:8080/",
          "height": 34
        },
        "outputId": "27a5c091-6891-4764-a24d-2b56ee23b4da"
      },
      "source": [
        "list(range(10))"
      ],
      "execution_count": null,
      "outputs": [
        {
          "output_type": "execute_result",
          "data": {
            "text/plain": [
              "[0, 1, 2, 3, 4, 5, 6, 7, 8, 9]"
            ]
          },
          "metadata": {
            "tags": []
          },
          "execution_count": 27
        }
      ]
    },
    {
      "cell_type": "markdown",
      "metadata": {
        "id": "0laSTlXFdlzl"
      },
      "source": [
        "### Modules and libraries\n",
        "\n",
        "Python is a general-purpose programming language, so when we want to use more specific commands (such as statistical operators or string processing operators) we usually need to import them before we can use them. For Scientific Python, one of the most important libraries that we need is **numpy** (Numerical Python, NumPy: Basic mathematical operations with vectors and arrays: https://numpy.org/), which can be loaded like this:"
      ]
    },
    {
      "cell_type": "code",
      "metadata": {
        "id": "6BbJUhuJdlzm",
        "colab": {
          "base_uri": "https://localhost:8080/",
          "height": 34
        },
        "outputId": "4a8519d8-9695-4fcc-a1ee-808306d7bae7"
      },
      "source": [
        "import numpy as np\n",
        "np.sqrt(25)"
      ],
      "execution_count": null,
      "outputs": [
        {
          "output_type": "execute_result",
          "data": {
            "text/plain": [
              "5.0"
            ]
          },
          "metadata": {
            "tags": []
          },
          "execution_count": 28
        }
      ]
    },
    {
      "cell_type": "code",
      "metadata": {
        "id": "yDfExa3edlzp",
        "colab": {
          "base_uri": "https://localhost:8080/",
          "height": 34
        },
        "outputId": "b991c565-58b5-445a-8df2-ecadf7fb1e08"
      },
      "source": [
        "np.arange(10)"
      ],
      "execution_count": null,
      "outputs": [
        {
          "output_type": "execute_result",
          "data": {
            "text/plain": [
              "array([0, 1, 2, 3, 4, 5, 6, 7, 8, 9])"
            ]
          },
          "metadata": {
            "tags": []
          },
          "execution_count": 29
        }
      ]
    },
    {
      "cell_type": "markdown",
      "metadata": {
        "id": "SqBm2382dlzs"
      },
      "source": [
        "Access to the functions, variables and classes of a module depends on the way the module was imported:"
      ]
    },
    {
      "cell_type": "code",
      "metadata": {
        "id": "Ua9DHZr9dlzt",
        "colab": {
          "base_uri": "https://localhost:8080/",
          "height": 34
        },
        "outputId": "baf488b1-41d5-4588-8cb2-9af7ce0701ce"
      },
      "source": [
        "import math\n",
        "math.cos(math.pi)"
      ],
      "execution_count": null,
      "outputs": [
        {
          "output_type": "execute_result",
          "data": {
            "text/plain": [
              "-1.0"
            ]
          },
          "metadata": {
            "tags": []
          },
          "execution_count": 30
        }
      ]
    },
    {
      "cell_type": "code",
      "metadata": {
        "id": "MaFbhc7Odlzw",
        "colab": {
          "base_uri": "https://localhost:8080/",
          "height": 34
        },
        "outputId": "dcc76457-ff28-4e9d-c729-86a70337f413"
      },
      "source": [
        "import math as m  # import using an alias\n",
        "m.cos(m.pi)"
      ],
      "execution_count": null,
      "outputs": [
        {
          "output_type": "execute_result",
          "data": {
            "text/plain": [
              "-1.0"
            ]
          },
          "metadata": {
            "tags": []
          },
          "execution_count": 31
        }
      ]
    },
    {
      "cell_type": "code",
      "metadata": {
        "id": "3TT4wy9cdlz1",
        "colab": {
          "base_uri": "https://localhost:8080/",
          "height": 34
        },
        "outputId": "e1a8ef5b-a770-4e82-da91-605e7457127b"
      },
      "source": [
        "from math import cos,pi # import only some functions\n",
        "cos(pi)"
      ],
      "execution_count": null,
      "outputs": [
        {
          "output_type": "execute_result",
          "data": {
            "text/plain": [
              "-1.0"
            ]
          },
          "metadata": {
            "tags": []
          },
          "execution_count": 32
        }
      ]
    },
    {
      "cell_type": "code",
      "metadata": {
        "id": "UXDvJrm8dlz4",
        "colab": {
          "base_uri": "https://localhost:8080/",
          "height": 34
        },
        "outputId": "8dca1d5a-f641-4b09-b30e-44994ffd89fa"
      },
      "source": [
        "from math import *   # global import\n",
        "cos(pi)"
      ],
      "execution_count": null,
      "outputs": [
        {
          "output_type": "execute_result",
          "data": {
            "text/plain": [
              "-1.0"
            ]
          },
          "metadata": {
            "tags": []
          },
          "execution_count": 11
        }
      ]
    },
    {
      "cell_type": "markdown",
      "metadata": {
        "id": "Y7nBmqjVi1L8"
      },
      "source": [
        "Basides Numpy, the most important in the field of data analysis are the following:\n",
        "\n",
        "**Scipy**: Basic Statistical Operations: https://www.scipy.org/\n",
        "\n",
        "**Pandas**: Allows you to manipulate data files in excel, csv, text, etc. https://pandas.pydata.org/\n",
        "\n",
        "**Seaborn**: Graphing data in pandas format: https://seaborn.pydata.org/\n",
        "\n",
        "**Matplotlib**: Plotting nnumpy arrays: https://matplotlib.org/\n",
        "\n",
        "**sckit-learn**: Pattern recognition and artificial intelligence tools https://scikit-learn.org/stable/\n",
        "\n",
        "**sckit-image**: Image processing https://scikit-image.org/"
      ]
    },
    {
      "cell_type": "markdown",
      "metadata": {
        "id": "Zi5A_CoIdlz7"
      },
      "source": [
        "### Variables\n",
        "Often the value returned by an operation will be used later on. Values can be stored for later use with the **assignment operator**:"
      ]
    },
    {
      "cell_type": "code",
      "metadata": {
        "id": "0latO-7hdlz8",
        "colab": {
          "base_uri": "https://localhost:8080/",
          "height": 34
        },
        "outputId": "ce4a13a5-4fe5-44c4-a69f-41a60a1aded4"
      },
      "source": [
        "a = 101\n",
        "type(a)"
      ],
      "execution_count": null,
      "outputs": [
        {
          "output_type": "execute_result",
          "data": {
            "text/plain": [
              "int"
            ]
          },
          "metadata": {
            "tags": []
          },
          "execution_count": 35
        }
      ]
    },
    {
      "cell_type": "markdown",
      "metadata": {
        "id": "_ZUXo-hHdl0D"
      },
      "source": [
        "There are some general rules for object names:\n",
        "\n",
        "+ Use only letters and numbers and ‘underscores’ (_)\n",
        "+ Do NOT use spaces anywhere in the name\n",
        "+ A number cannot be the first character in the name\n",
        "+ Capital letters are treated as distinct from lower-case letters (i.e., Python is case-sensitive)"
      ]
    },
    {
      "cell_type": "markdown",
      "metadata": {
        "id": "MuBFQ1FIWqZ9"
      },
      "source": [
        "You can check the value of a variable by printing it. You can also embed the value of the variable in a string using the *format* option of the print instruction: "
      ]
    },
    {
      "cell_type": "code",
      "metadata": {
        "id": "x_bJFgFduBjj",
        "colab": {
          "base_uri": "https://localhost:8080/",
          "height": 34
        },
        "outputId": "4007d851-f39c-4be6-b6e3-71d4b52b3fd4"
      },
      "source": [
        "print(a)"
      ],
      "execution_count": null,
      "outputs": [
        {
          "output_type": "stream",
          "text": [
            "19\n"
          ],
          "name": "stdout"
        }
      ]
    },
    {
      "cell_type": "code",
      "metadata": {
        "id": "sA2xM_kVXFoJ",
        "colab": {
          "base_uri": "https://localhost:8080/",
          "height": 34
        },
        "outputId": "d4532a6b-6cfc-4828-a029-30c0ba814e4c"
      },
      "source": [
        "a = 19\n",
        "print('The value of a is {}'.format(a))"
      ],
      "execution_count": null,
      "outputs": [
        {
          "output_type": "stream",
          "text": [
            "The value of a is 19\n"
          ],
          "name": "stdout"
        }
      ]
    },
    {
      "cell_type": "markdown",
      "metadata": {
        "id": "CtnltAcbdl0a"
      },
      "source": [
        "### Operators\n",
        "\n",
        "+ Addition (also string, tuple and list concatenation) <code>a + b</code>\n",
        "+ Subtraction (also set difference): <code>a - b</code>\n",
        "+ Multiplication (also string, tuple and list replication): <code>a * b</code>\n",
        "+ Division: <code>a / b</code>\n",
        "+ Truncated integer division (rounded towards minus infinity): <code>a // b</code>\n",
        "+ Modulus or remainder: <code>a % b</code>\n",
        "+ Exponentiation: <code>a ** b</code>\n",
        "+ Assignment: <code>=</code>, <code>-=</code>, <code>+=</code>,<code>/=</code>,<code>*=</code>, <code>%=</code>, <code>//=</code>, <code>**=</code>\n",
        "+ Boolean comparisons: <code>==</code>, <code>!=</code>, <code><</code>,<code>></code>,<code><=</code>, <code>>=</code>\n",
        "+ Boolean operators: <code>and</code>, <code>or</code>, <code>not</code>\n",
        "+ Membership test operators: <code>in</code>, <code>not in</code>\n",
        "+ Object identity operators: <code>is</code>, <code>is not</code>\n",
        "+ Bitwise operators (or, xor, and, complement): <code>|</code>, <code>^</code>, <code>&</code>, <code>~</code>\n",
        "+ Left and right bit shift: <code><<</code>, <code>>></code>"
      ]
    },
    {
      "cell_type": "code",
      "metadata": {
        "id": "uRpyFtV7dl1H",
        "colab": {
          "base_uri": "https://localhost:8080/",
          "height": 34
        },
        "outputId": "ef8611b0-dd65-472a-a6a5-6fbde0cc84a9"
      },
      "source": [
        "a = 4\n",
        "b = 40\n",
        "(a>2) and (b>30)"
      ],
      "execution_count": null,
      "outputs": [
        {
          "output_type": "execute_result",
          "data": {
            "text/plain": [
              "True"
            ]
          },
          "metadata": {
            "tags": []
          },
          "execution_count": 57
        }
      ]
    },
    {
      "cell_type": "code",
      "metadata": {
        "id": "HNhep7HDdl1K",
        "colab": {
          "base_uri": "https://localhost:8080/",
          "height": 34
        },
        "outputId": "6fc7ad48-c5fb-4089-86a6-910928f07480"
      },
      "source": [
        "(a>5) or (b>100)"
      ],
      "execution_count": null,
      "outputs": [
        {
          "output_type": "execute_result",
          "data": {
            "text/plain": [
              "False"
            ]
          },
          "metadata": {
            "tags": []
          },
          "execution_count": 59
        }
      ]
    },
    {
      "cell_type": "code",
      "metadata": {
        "id": "a9TwBxbUdl1N",
        "colab": {
          "base_uri": "https://localhost:8080/",
          "height": 34
        },
        "outputId": "a2244b95-d17f-4f46-f165-b8a10e157121"
      },
      "source": [
        "not(a>2)"
      ],
      "execution_count": null,
      "outputs": [
        {
          "output_type": "execute_result",
          "data": {
            "text/plain": [
              "False"
            ]
          },
          "metadata": {
            "tags": []
          },
          "execution_count": 60
        }
      ]
    },
    {
      "cell_type": "markdown",
      "metadata": {
        "id": "UkfLL4wfdl0j"
      },
      "source": [
        "### String processing\n",
        "\n",
        "Strings are list of characters:"
      ]
    },
    {
      "cell_type": "code",
      "metadata": {
        "id": "FliJSU7rdl0k",
        "colab": {
          "base_uri": "https://localhost:8080/"
        },
        "outputId": "85f66a70-c836-4823-b86c-67e7f7d9560b"
      },
      "source": [
        "a = 'python'\n",
        "type(a)"
      ],
      "execution_count": 1,
      "outputs": [
        {
          "output_type": "execute_result",
          "data": {
            "text/plain": [
              "str"
            ]
          },
          "metadata": {},
          "execution_count": 1
        }
      ]
    },
    {
      "cell_type": "code",
      "metadata": {
        "id": "BuuTpdNxdl0n",
        "colab": {
          "base_uri": "https://localhost:8080/"
        },
        "outputId": "78f2d5ce-1ce6-4635-c015-2d1416bbed66"
      },
      "source": [
        "print(a)"
      ],
      "execution_count": 2,
      "outputs": [
        {
          "output_type": "stream",
          "name": "stdout",
          "text": [
            "python\n"
          ]
        }
      ]
    },
    {
      "cell_type": "markdown",
      "source": [
        "String concatenation"
      ],
      "metadata": {
        "id": "YgF6ddqskdak"
      }
    },
    {
      "cell_type": "code",
      "source": [
        "a = 'jo'\n",
        "b = 'també'\n",
        "c = a + ' ' + b\n",
        "print(c)"
      ],
      "metadata": {
        "colab": {
          "base_uri": "https://localhost:8080/"
        },
        "id": "ozMqZ2qZkgFH",
        "outputId": "6d0b14a4-0d60-47ff-8588-d5416bf9e66f"
      },
      "execution_count": 6,
      "outputs": [
        {
          "output_type": "stream",
          "name": "stdout",
          "text": [
            "jo també\n"
          ]
        }
      ]
    },
    {
      "cell_type": "markdown",
      "metadata": {
        "id": "eo_OaRT9dl1P"
      },
      "source": [
        "### Loops\n",
        "\n",
        "* For\n",
        "* While"
      ]
    },
    {
      "cell_type": "code",
      "metadata": {
        "id": "lG401eY0dl1Q",
        "colab": {
          "base_uri": "https://localhost:8080/",
          "height": 187
        },
        "outputId": "5de2fba6-1e20-4578-b2e1-d5a513b86345"
      },
      "source": [
        "for i in range(0,10,1):\n",
        "    print(i)"
      ],
      "execution_count": null,
      "outputs": [
        {
          "output_type": "stream",
          "text": [
            "0\n",
            "1\n",
            "2\n",
            "3\n",
            "4\n",
            "5\n",
            "6\n",
            "7\n",
            "8\n",
            "9\n"
          ],
          "name": "stdout"
        }
      ]
    },
    {
      "cell_type": "code",
      "metadata": {
        "id": "sQEXRcBkdl1T",
        "colab": {
          "base_uri": "https://localhost:8080/",
          "height": 187
        },
        "outputId": "ca0d2546-89ce-4537-bf25-b9a0d6ffb35d"
      },
      "source": [
        "i=0\n",
        "while i < 10 :\n",
        "    print(i)\n",
        "    i= i+1"
      ],
      "execution_count": null,
      "outputs": [
        {
          "output_type": "stream",
          "text": [
            "0\n",
            "1\n",
            "2\n",
            "3\n",
            "4\n",
            "5\n",
            "6\n",
            "7\n",
            "8\n",
            "9\n"
          ],
          "name": "stdout"
        }
      ]
    },
    {
      "cell_type": "code",
      "metadata": {
        "id": "rDZ_2Q0VmyKc",
        "colab": {
          "base_uri": "https://localhost:8080/",
          "height": 68
        },
        "outputId": "9b840d05-d816-4cd9-d80c-06e828a51c82"
      },
      "source": [
        "vector = [\"hola\",\"buenos\",\"dias\"]\n",
        "for palabra in vector:\n",
        "    print (palabra)"
      ],
      "execution_count": null,
      "outputs": [
        {
          "output_type": "stream",
          "text": [
            "hola\n",
            "buenos\n",
            "dias\n"
          ],
          "name": "stdout"
        }
      ]
    },
    {
      "cell_type": "markdown",
      "metadata": {
        "id": "iFd3WsLCdl1W"
      },
      "source": [
        "**``If``** statesments can be combined with **loops** (``for``, ``while``):"
      ]
    },
    {
      "cell_type": "code",
      "metadata": {
        "id": "n9SKr5cJdl1W",
        "colab": {
          "base_uri": "https://localhost:8080/",
          "height": 34
        },
        "outputId": "904b447e-ed87-47ab-a926-221d469b39b1"
      },
      "source": [
        "numbers = [-5, 3,2,-1,9,6]\n",
        "total = 0\n",
        "\n",
        "for n in numbers:\n",
        "    if n >= 0:\n",
        "        total += n\n",
        "\n",
        "print(total)"
      ],
      "execution_count": null,
      "outputs": [
        {
          "output_type": "stream",
          "text": [
            "20\n"
          ],
          "name": "stdout"
        }
      ]
    },
    {
      "cell_type": "markdown",
      "source": [
        "### Functions"
      ],
      "metadata": {
        "id": "5XcdTHFBj3Yp"
      }
    },
    {
      "cell_type": "code",
      "metadata": {
        "id": "qhBRt_qsdl1Z",
        "colab": {
          "base_uri": "https://localhost:8080/",
          "height": 34
        },
        "outputId": "7e204411-0d94-4609-a66d-4c023fa31588"
      },
      "source": [
        "def average(a):\n",
        "    sum = 0.0\n",
        "    for i in a:\n",
        "        sum = sum + i\n",
        "    return sum/len(a)\n",
        "\n",
        "average([1,2,3,4])"
      ],
      "execution_count": null,
      "outputs": [
        {
          "output_type": "execute_result",
          "data": {
            "text/plain": [
              "2.5"
            ]
          },
          "metadata": {
            "tags": []
          },
          "execution_count": 66
        }
      ]
    }
  ]
}