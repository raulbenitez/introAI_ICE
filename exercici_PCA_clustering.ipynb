{
  "nbformat": 4,
  "nbformat_minor": 0,
  "metadata": {
    "colab": {
      "provenance": [],
      "authorship_tag": "ABX9TyN6X/+my+Tpk8qzrJrInozM",
      "include_colab_link": true
    },
    "kernelspec": {
      "name": "python3",
      "display_name": "Python 3"
    },
    "language_info": {
      "name": "python"
    }
  },
  "cells": [
    {
      "cell_type": "markdown",
      "metadata": {
        "id": "view-in-github",
        "colab_type": "text"
      },
      "source": [
        "<a href=\"https://colab.research.google.com/github/raulbenitez/introAI_ICE/blob/main/exercici_PCA_clustering.ipynb\" target=\"_parent\"><img src=\"https://colab.research.google.com/assets/colab-badge.svg\" alt=\"Open In Colab\"/></a>"
      ]
    },
    {
      "cell_type": "markdown",
      "source": [
        "**EXERCICI: Clustering with PCA** \n",
        "\n",
        "- Carregar les dades dels Pingüins de l'Antàrtida \n",
        "- Eliminar variables no numèriques i observacions que presentin NaNs\n",
        "- Aplicar PCA per reduïr la dimensionalitat de les dades\n",
        "- Aplicar agrupament k-means a les dades originals i a les dades projectades a l'espai PCA de dimensionalitat reduïda\n",
        "- Comparar els dos agrupaments fent servir el adjusted rand score\n",
        "\n"
      ],
      "metadata": {
        "id": "SE5eA6bdE0Pz"
      }
    }
  ]
}